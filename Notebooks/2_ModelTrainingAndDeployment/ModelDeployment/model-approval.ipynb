{
 "cells": [
  {
   "cell_type": "code",
   "execution_count": 0,
   "metadata": {
    "application/vnd.databricks.v1+cell": {
     "cellMetadata": {
      "byteLimit": 2048000,
      "rowLimit": 10000
     },
     "inputWidgets": {},
     "nuid": "ab6629f3-78e2-4944-a1ae-45c47d2b455f",
     "showTitle": false,
     "tableResultSettingsMap": {},
     "title": ""
    }
   },
   "outputs": [],
   "source": [
    "%pip install mlflow --upgrade\n",
    "dbutils.library.restartPython()"
   ]
  },
  {
   "cell_type": "code",
   "execution_count": 0,
   "metadata": {
    "application/vnd.databricks.v1+cell": {
     "cellMetadata": {
      "byteLimit": 2048000,
      "rowLimit": 10000
     },
     "inputWidgets": {},
     "nuid": "dd45f111-9993-472a-ab4c-b6d5419d376a",
     "showTitle": false,
     "tableResultSettingsMap": {},
     "title": ""
    }
   },
   "outputs": [],
   "source": [
    "dbutils.widgets.text(\"model_name\", \"pedroz_e2edata_dev.default.iris_model\")\n",
    "dbutils.widgets.text(\"model_version\", \"1\")\n",
    "dbutils.widgets.text(\"approval_tag_name\", \"approval\")\n",
    "\n",
    "model_name = dbutils.widgets.get(\"model_name\")\n",
    "model_version = dbutils.widgets.get(\"model_version\")\n",
    "approval_tag_name = dbutils.widgets.get(\"approval_tag_name\")"
   ]
  },
  {
   "cell_type": "code",
   "execution_count": 0,
   "metadata": {
    "application/vnd.databricks.v1+cell": {
     "cellMetadata": {},
     "inputWidgets": {},
     "nuid": "8f1acdc6-00ff-4424-a382-1345da234ca2",
     "showTitle": false,
     "tableResultSettingsMap": {},
     "title": ""
    }
   },
   "outputs": [],
   "source": [
    "from mlflow import MlflowClient"
   ]
  },
  {
   "cell_type": "code",
   "execution_count": 0,
   "metadata": {
    "application/vnd.databricks.v1+cell": {
     "cellMetadata": {
      "byteLimit": 2048000,
      "rowLimit": 10000
     },
     "inputWidgets": {},
     "nuid": "d0e6eb3f-dce9-48e4-a25d-92fa9af54289",
     "showTitle": false,
     "tableResultSettingsMap": {},
     "title": ""
    }
   },
   "outputs": [],
   "source": [
    "client = MlflowClient(registry_uri=\"databricks-uc\")\n",
    "\n",
    "# fetch the model version's UC tags\n",
    "model_tags = client.get_model_version(model_name, model_version).tags\n",
    "\n",
    "# check if any tag matches the approval tag name\n",
    "if not any(tag == approval_tag_name for tag in model_tags.keys()):\n",
    "  raise Exception(\"Model version not approved for deployment\")\n",
    "else:\n",
    "  # if tag is found, check if it is approved\n",
    "  if model_tags.get(approval_tag_name).lower() == \"approved\":\n",
    "    print(\"Model version approved for deployment\")\n",
    "  else:\n",
    "    raise Exception(\"Model version not approved for deployment\")"
   ]
  }
 ],
 "metadata": {
  "application/vnd.databricks.v1+notebook": {
   "computePreferences": null,
   "dashboards": [],
   "environmentMetadata": {
    "base_environment": "",
    "environment_version": "2"
   },
   "inputWidgetPreferences": null,
   "language": "python",
   "notebookMetadata": {
    "pythonIndentUnit": 4
   },
   "notebookName": "model-approval",
   "widgets": {
    "approval_tag_name": {
     "currentValue": "approved",
     "nuid": "f2036e90-1ce2-40e5-9486-c5b637d08249",
     "typedWidgetInfo": {
      "autoCreated": false,
      "defaultValue": "approved",
      "label": null,
      "name": "approval_tag_name",
      "options": {
       "widgetDisplayType": "Text",
       "validationRegex": null
      },
      "parameterDataType": "String"
     },
     "widgetInfo": {
      "widgetType": "text",
      "defaultValue": "approved",
      "label": null,
      "name": "approval_tag_name",
      "options": {
       "widgetType": "text",
       "autoCreated": null,
       "validationRegex": null
      }
     }
    },
    "model_name": {
     "currentValue": "pedroz_e2edata_dev.default.iris_model",
     "nuid": "e9d29f87-03e5-49dc-9fb0-f1ff3ca9ebd4",
     "typedWidgetInfo": {
      "autoCreated": false,
      "defaultValue": "pedroz_e2edata_dev.default.iris_model",
      "label": null,
      "name": "model_name",
      "options": {
       "widgetDisplayType": "Text",
       "validationRegex": null
      },
      "parameterDataType": "String"
     },
     "widgetInfo": {
      "widgetType": "text",
      "defaultValue": "pedroz_e2edata_dev.default.iris_model",
      "label": null,
      "name": "model_name",
      "options": {
       "widgetType": "text",
       "autoCreated": null,
       "validationRegex": null
      }
     }
    },
    "model_version": {
     "currentValue": "1",
     "nuid": "f884f2a0-a720-4bba-b2c1-bc035c5947e2",
     "typedWidgetInfo": {
      "autoCreated": false,
      "defaultValue": "1",
      "label": null,
      "name": "model_version",
      "options": {
       "widgetDisplayType": "Text",
       "validationRegex": null
      },
      "parameterDataType": "String"
     },
     "widgetInfo": {
      "widgetType": "text",
      "defaultValue": "1",
      "label": null,
      "name": "model_version",
      "options": {
       "widgetType": "text",
       "autoCreated": null,
       "validationRegex": null
      }
     }
    }
   }
  },
  "language_info": {
   "name": "python"
  }
 },
 "nbformat": 4,
 "nbformat_minor": 0
}