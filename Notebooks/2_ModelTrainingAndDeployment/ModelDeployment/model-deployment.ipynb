{
 "cells": [
  {
   "cell_type": "code",
   "execution_count": 0,
   "metadata": {
    "application/vnd.databricks.v1+cell": {
     "cellMetadata": {
      "byteLimit": 2048000,
      "rowLimit": 10000
     },
     "inputWidgets": {},
     "nuid": "c8b631ab-95ef-4c7d-be0d-7d18ef95a9a5",
     "showTitle": false,
     "tableResultSettingsMap": {},
     "title": ""
    }
   },
   "outputs": [],
   "source": [
    "%pip install mlflow --upgrade\n",
    "dbutils.library.restartPython()"
   ]
  },
  {
   "cell_type": "code",
   "execution_count": 0,
   "metadata": {
    "application/vnd.databricks.v1+cell": {
     "cellMetadata": {
      "byteLimit": 2048000,
      "rowLimit": 10000
     },
     "inputWidgets": {},
     "nuid": "508c8944-2593-4a57-96f0-30e2ef1b73a0",
     "showTitle": false,
     "tableResultSettingsMap": {},
     "title": ""
    }
   },
   "outputs": [],
   "source": [
    "dbutils.widgets.text(\"model_name\", \"pedroz_e2edata_dev.default.iris_model\")\n",
    "dbutils.widgets.text(\"model_version\", \"1\")\n",
    "\n",
    "model_name = dbutils.widgets.get(\"model_name\")\n",
    "model_version = dbutils.widgets.get(\"model_version\")"
   ]
  },
  {
   "cell_type": "code",
   "execution_count": 0,
   "metadata": {
    "application/vnd.databricks.v1+cell": {
     "cellMetadata": {
      "byteLimit": 2048000,
      "rowLimit": 10000
     },
     "inputWidgets": {},
     "nuid": "cd61ab38-2e42-49f9-b367-51240416fbee",
     "showTitle": false,
     "tableResultSettingsMap": {},
     "title": ""
    }
   },
   "outputs": [],
   "source": [
    "from databricks.sdk import WorkspaceClient\n",
    "from databricks.sdk.service.serving import (\n",
    "  ServedEntityInput,\n",
    "  EndpointCoreConfigInput\n",
    ")\n",
    "from databricks.sdk.errors import ResourceDoesNotExist\n",
    "from mlflow import MlflowClient"
   ]
  },
  {
   "cell_type": "code",
   "execution_count": 0,
   "metadata": {
    "application/vnd.databricks.v1+cell": {
     "cellMetadata": {
      "byteLimit": 2048000,
      "rowLimit": 10000
     },
     "inputWidgets": {},
     "nuid": "9c19d472-4d27-4b3c-adf7-a4a8e3ca0fb2",
     "showTitle": false,
     "tableResultSettingsMap": {},
     "title": ""
    }
   },
   "outputs": [],
   "source": [
    "# Promote the model version to Champion\n",
    "\n",
    "client = MlflowClient()\n",
    "\n",
    "client.set_registered_model_alias(\n",
    "    f'{model_name}', \n",
    "    \"Champion\", \n",
    "    model_version\n",
    ")"
   ]
  },
  {
   "cell_type": "code",
   "execution_count": 0,
   "metadata": {
    "application/vnd.databricks.v1+cell": {
     "cellMetadata": {
      "byteLimit": 2048000,
      "rowLimit": 10000
     },
     "inputWidgets": {},
     "nuid": "2120abec-6433-4138-8970-da4a9e8aba7b",
     "showTitle": false,
     "tableResultSettingsMap": {},
     "title": ""
    }
   },
   "outputs": [],
   "source": [
    "# Create a serving endpoint for the model\n",
    "\n",
    "# REQUIRED: Enter serving endpoint name\n",
    "serving_endpoint_name = model_name.replace('.', '-') + \"-endpoint\"\n",
    "\n",
    "w = WorkspaceClient()  # Assumes DATABRICKS_HOST and DATABRICKS_TOKEN are set\n",
    "served_entities=[\n",
    "  ServedEntityInput(\n",
    "    entity_name=model_name,\n",
    "    entity_version=model_version,\n",
    "    workload_size=\"Small\",\n",
    "    scale_to_zero_enabled=True\n",
    "  )\n",
    "]\n",
    "\n",
    "# Update serving endpoint if it already exists, otherwise create the serving endpoint\n",
    "try:\n",
    "  w.serving_endpoints.update_config(name=serving_endpoint_name, served_entities=served_entities)\n",
    "except ResourceDoesNotExist:\n",
    "  w.serving_endpoints.create(name=serving_endpoint_name, config=EndpointCoreConfigInput(served_entities=served_entities))"
   ]
  }
 ],
 "metadata": {
  "application/vnd.databricks.v1+notebook": {
   "computePreferences": null,
   "dashboards": [],
   "environmentMetadata": {
    "base_environment": "",
    "environment_version": "2"
   },
   "inputWidgetPreferences": null,
   "language": "python",
   "notebookMetadata": {
    "pythonIndentUnit": 4
   },
   "notebookName": "model-deployment",
   "widgets": {
    "model_name": {
     "currentValue": "pedroz_e2edata_dev.default.iris_model",
     "nuid": "107eb075-0cd1-4d46-967f-9397401e09dc",
     "typedWidgetInfo": {
      "autoCreated": false,
      "defaultValue": "pedroz_e2edata_dev.default.iris_model",
      "label": null,
      "name": "model_name",
      "options": {
       "validationRegex": null,
       "widgetDisplayType": "Text"
      },
      "parameterDataType": "String"
     },
     "widgetInfo": {
      "defaultValue": "pedroz_e2edata_dev.default.iris_model",
      "label": null,
      "name": "model_name",
      "options": {
       "autoCreated": null,
       "validationRegex": null,
       "widgetType": "text"
      },
      "widgetType": "text"
     }
    },
    "model_version": {
     "currentValue": "1",
     "nuid": "a0decf9a-501b-4dc9-916d-cc858a20694b",
     "typedWidgetInfo": {
      "autoCreated": false,
      "defaultValue": "1",
      "label": null,
      "name": "model_version",
      "options": {
       "validationRegex": null,
       "widgetDisplayType": "Text"
      },
      "parameterDataType": "String"
     },
     "widgetInfo": {
      "defaultValue": "1",
      "label": null,
      "name": "model_version",
      "options": {
       "autoCreated": null,
       "validationRegex": null,
       "widgetType": "text"
      },
      "widgetType": "text"
     }
    }
   }
  },
  "language_info": {
   "name": "python"
  }
 },
 "nbformat": 4,
 "nbformat_minor": 0
}
